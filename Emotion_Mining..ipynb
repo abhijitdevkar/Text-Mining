{
  "nbformat": 4,
  "nbformat_minor": 0,
  "metadata": {
    "kernelspec": {
      "display_name": "Python 3",
      "language": "python",
      "name": "python3"
    },
    "language_info": {
      "codemirror_mode": {
        "name": "ipython",
        "version": 3
      },
      "file_extension": ".py",
      "mimetype": "text/x-python",
      "name": "python",
      "nbconvert_exporter": "python",
      "pygments_lexer": "ipython3",
      "version": "3.8.5"
    },
    "colab": {
      "name": "Emotion_Mining.ipynb",
      "provenance": [],
      "collapsed_sections": [],
      "toc_visible": true
    }
  },
  "cells": [
    {
      "cell_type": "markdown",
      "metadata": {
        "id": "7eLQcCaWRQL-"
      },
      "source": [
        "#### Named Entity Recognition"
      ]
    },
    {
      "cell_type": "code",
      "metadata": {
        "id": "tzRtv-AjRQMB"
      },
      "source": [
        "import numpy as np # linear algebra\n",
        "import pandas as pd # data processing, CSV file I/O (e.g. pd.read_csv)\n",
        "import string # special operations on strings\n",
        "import spacy # language models\n",
        "\n",
        "from matplotlib.pyplot import imread\n",
        "from matplotlib import pyplot as plt\n",
        "from wordcloud import WordCloud\n",
        "%matplotlib inline"
      ],
      "execution_count": 1,
      "outputs": []
    },
    {
      "cell_type": "code",
      "metadata": {
        "colab": {
          "base_uri": "https://localhost:8080/",
          "height": 232
        },
        "id": "nF8Et702RQMD",
        "outputId": "3988348f-022c-434a-a04b-5b1838caf67d"
      },
      "source": [
        "import pandas\n",
        "book=pd.read_csv(\"iphone.txt\",error_bad_lines=False)\n",
        "book.head()"
      ],
      "execution_count": 2,
      "outputs": [
        {
          "output_type": "stream",
          "text": [
            "b'Skipping line 7: expected 1 fields, saw 2\\nSkipping line 8: expected 1 fields, saw 2\\nSkipping line 9: expected 1 fields, saw 4\\nSkipping line 15: expected 1 fields, saw 3\\nSkipping line 16: expected 1 fields, saw 2\\nSkipping line 26: expected 1 fields, saw 3\\nSkipping line 27: expected 1 fields, saw 2\\nSkipping line 28: expected 1 fields, saw 2\\nSkipping line 29: expected 1 fields, saw 2\\nSkipping line 36: expected 1 fields, saw 2\\nSkipping line 40: expected 1 fields, saw 2\\nSkipping line 41: expected 1 fields, saw 3\\nSkipping line 42: expected 1 fields, saw 2\\nSkipping line 43: expected 1 fields, saw 4\\nSkipping line 49: expected 1 fields, saw 2\\nSkipping line 51: expected 1 fields, saw 2\\nSkipping line 52: expected 1 fields, saw 2\\nSkipping line 54: expected 1 fields, saw 4\\nSkipping line 55: expected 1 fields, saw 4\\nSkipping line 56: expected 1 fields, saw 2\\nSkipping line 57: expected 1 fields, saw 2\\nSkipping line 59: expected 1 fields, saw 2\\nSkipping line 61: expected 1 fields, saw 2\\nSkipping line 62: expected 1 fields, saw 3\\nSkipping line 63: expected 1 fields, saw 5\\nSkipping line 64: expected 1 fields, saw 2\\nSkipping line 66: expected 1 fields, saw 7\\nSkipping line 67: expected 1 fields, saw 2\\nSkipping line 70: expected 1 fields, saw 2\\nSkipping line 71: expected 1 fields, saw 4\\nSkipping line 73: expected 1 fields, saw 5\\nSkipping line 74: expected 1 fields, saw 3\\nSkipping line 75: expected 1 fields, saw 2\\nSkipping line 76: expected 1 fields, saw 2\\nSkipping line 77: expected 1 fields, saw 2\\nSkipping line 78: expected 1 fields, saw 2\\nSkipping line 79: expected 1 fields, saw 2\\nSkipping line 80: expected 1 fields, saw 5\\nSkipping line 81: expected 1 fields, saw 2\\nSkipping line 82: expected 1 fields, saw 2\\nSkipping line 83: expected 1 fields, saw 2\\nSkipping line 84: expected 1 fields, saw 3\\nSkipping line 89: expected 1 fields, saw 6\\nSkipping line 91: expected 1 fields, saw 5\\nSkipping line 98: expected 1 fields, saw 10\\nSkipping line 99: expected 1 fields, saw 5\\nSkipping line 111: expected 1 fields, saw 2\\nSkipping line 113: expected 1 fields, saw 2\\nSkipping line 115: expected 1 fields, saw 2\\nSkipping line 117: expected 1 fields, saw 2\\nSkipping line 122: expected 1 fields, saw 2\\n'\n"
          ],
          "name": "stderr"
        },
        {
          "output_type": "execute_result",
          "data": {
            "text/html": [
              "<div>\n",
              "<style scoped>\n",
              "    .dataframe tbody tr th:only-of-type {\n",
              "        vertical-align: middle;\n",
              "    }\n",
              "\n",
              "    .dataframe tbody tr th {\n",
              "        vertical-align: top;\n",
              "    }\n",
              "\n",
              "    .dataframe thead th {\n",
              "        text-align: right;\n",
              "    }\n",
              "</style>\n",
              "<table border=\"1\" class=\"dataframe\">\n",
              "  <thead>\n",
              "    <tr style=\"text-align: right;\">\n",
              "      <th></th>\n",
              "      <th>x</th>\n",
              "    </tr>\n",
              "  </thead>\n",
              "  <tbody>\n",
              "    <tr>\n",
              "      <th>0</th>\n",
              "      <td>I LOVE LOVE LOVE this phone! I always loved th...</td>\n",
              "    </tr>\n",
              "    <tr>\n",
              "      <th>1</th>\n",
              "      <td>Why is it Locked for cricket carrier?</td>\n",
              "    </tr>\n",
              "    <tr>\n",
              "      <th>2</th>\n",
              "      <td>forced to buy cricket carrier with phone??</td>\n",
              "    </tr>\n",
              "    <tr>\n",
              "      <th>3</th>\n",
              "      <td>\"This is a Cricket Locked iPhone - It Says So...</td>\n",
              "    </tr>\n",
              "    <tr>\n",
              "      <th>4</th>\n",
              "      <td>I way Forced to Return this supposedly locked ...</td>\n",
              "    </tr>\n",
              "  </tbody>\n",
              "</table>\n",
              "</div>"
            ],
            "text/plain": [
              "                                                   x\n",
              "0  I LOVE LOVE LOVE this phone! I always loved th...\n",
              "1              Why is it Locked for cricket carrier?\n",
              "2         forced to buy cricket carrier with phone??\n",
              "3   \"This is a Cricket Locked iPhone - It Says So...\n",
              "4  I way Forced to Return this supposedly locked ..."
            ]
          },
          "metadata": {
            "tags": []
          },
          "execution_count": 2
        }
      ]
    },
    {
      "cell_type": "code",
      "metadata": {
        "colab": {
          "base_uri": "https://localhost:8080/"
        },
        "id": "s17B9kAGVE5w",
        "outputId": "9e1aa779-599f-49a5-b323-248c902fbf81"
      },
      "source": [
        "book = [x.strip() for x in book.x] # remove both the leading and the trailing characters\n",
        "book = [x for x in book if x] # removes empty strings, because they are considered in Python as False\n",
        "book[0:10]"
      ],
      "execution_count": 3,
      "outputs": [
        {
          "output_type": "execute_result",
          "data": {
            "text/plain": [
              "['I LOVE LOVE LOVE this phone! I always loved the old body style of the iPhone 4 and the size of the newer ones and now I get the best of both worlds, old Body style with a larger screen! I love the way it feels in my hand and I love how crystal clear everything looks. By far my favorite version of the iPhone. Well done Apple!',\n",
              " 'Why is it Locked for cricket carrier?',\n",
              " 'forced to buy cricket carrier with phone??',\n",
              " '\"This is a Cricket Locked iPhone - It Says So in the Title!\"',\n",
              " 'I way Forced to Return this supposedly locked to cricket device,This brand New iPhone 12 Pro Mac 512GB SUPPOSEDLY LOCKED TO CRICKET WIRELESS I WAS FORCED TO HAVE TO RETURN THIS DEVICE BACK TO AMAZON 1. THIS DEVICE WOUKD NOT ACTIVATE UNDER THE CRICKET WIRELESS SUBSCRIPTION THAT AMAZON.com HAS SOLD TO ME 2. CRICKEY WIRELESS REFUSED TO PUT CRICKET WIRELESS HAND PROTECTION ON THIS DEVICE DUE TO THEM TELLING ME THAT THIS DEVICE WAS A BYOD DEVICE IN WHICH MEANS THAT THIS DEVICE THAT I WAS FORCED TO RETURN BACK TO AMAZON SHOULD HAVE BEEN UNLOCKED BUT IT WAS NOT UNLOCKED. IT WAS LOCKED TO A MYSTERIOUS CARRIER. THEN I CALLED APPLE INC ABOUT THIS DEVICE AND WITH THEIR WONDERFUL PRIVACY AGREEMENT THAT THEY SO SUBCONSCIOUSLY HAVE WITH ME BUT THEY TOLD ME THAT TODAY DEVICE BELONGED TO SOME INDIVIDUALS NAME AND IT WAS NOT OENED BY AMAZON.com. SO BUYER BEWARE THIS IS IF YOU ARE EVEN TO BE ABLE TO SEE THESE LOCKED DEVICES BY CRICKET WIRELESS',\n",
              " 'Unexpected loss of signal.A lot of iPhone 12 pro users (myself included) are having a problem with the cell service dropping for no reason. My opinion is to delay a purchase until there is a fix for this problem.',\n",
              " '\"Getting used to no home button is the only thing taking me awhile to get used to\".',\n",
              " 'awesomeness ,came fast and is the best apple so far love the camera',\n",
              " 'Amazing!!!!Got my phone after 3 days when it finally was released and Im very much happy with what i got\\r\\n ya entregue el producto yo el viernes entregue el producto espero mi reembolso',\n",
              " 'gracias\\r\\n Bought two returned both. If you don’t care about dropped calls go for it!Shame on Apple for releasing before they worked out the bugs. Disgusting. And Tana? Chip? No one seems to bother to even acknowledge a massive returns and compliance worldwide that it drops calls within 30 seconds to 2 minutes and sometimes the speaker works and sometimes it doesn’t. I spent every day for three weeks troubleshooting every possible way and nothing fixed it. Look at the forum read the other reviews again this is everyone all models and worldwide. And now you can’t buy the 11s anymore from Apple because it was the last model?!! Well I found it at Best Buy and you can get AppleCare and the phone is perfect. Apple put me in a really bad situation where I was switching over numbers and had to go back to my back up phone and had no time to even transition the number that I was going to switch from. The whole thing has just been a disaster thank God I returned both of them within the two week period. They finally told me I’m better off returning and not trying to set up a third phone. I think I would’ve lost my mind doing it three times & returning three times! People in line with me we’re taking theirs back but everyone acts like they are surprised when you mention issues. Apple Support will tell you they have no idea what you’re talking about it’s unbelievable! Check Google! Check the Apple forum! Very sorry for those of you who did not! One tec said when the S versions come out about a year later they usually work out the bugs. I am more than annoyed at the time and money I’ve put into this phone. Don’t buy it yet!!!!!!']"
            ]
          },
          "metadata": {
            "tags": []
          },
          "execution_count": 3
        }
      ]
    },
    {
      "cell_type": "code",
      "metadata": {
        "colab": {
          "base_uri": "https://localhost:8080/",
          "height": 292
        },
        "id": "mhK9UthyRQMD",
        "outputId": "9ab70042-c59c-4839-8074-2be580774990"
      },
      "source": [
        "##Part Of Speech Tagging\n",
        "nlp = spacy.load('en')\n",
        "\n",
        "one_block = book[4]\n",
        "doc_block = nlp(one_block)\n",
        "spacy.displacy.render(doc_block, style='ent', jupyter=True)"
      ],
      "execution_count": 4,
      "outputs": [
        {
          "output_type": "display_data",
          "data": {
            "text/html": [
              "<span class=\"tex2jax_ignore\"><div class=\"entities\" style=\"line-height: 2.5; direction: ltr\">I way Forced to Return this supposedly locked to cricket device,This brand \n",
              "<mark class=\"entity\" style=\"background: #ffeb80; padding: 0.45em 0.6em; margin: 0 0.25em; line-height: 1; border-radius: 0.35em;\">\n",
              "    New iPhone\n",
              "    <span style=\"font-size: 0.8em; font-weight: bold; line-height: 1; border-radius: 0.35em; text-transform: uppercase; vertical-align: middle; margin-left: 0.5rem\">EVENT</span>\n",
              "</mark>\n",
              " \n",
              "<mark class=\"entity\" style=\"background: #e4e7d2; padding: 0.45em 0.6em; margin: 0 0.25em; line-height: 1; border-radius: 0.35em;\">\n",
              "    12\n",
              "    <span style=\"font-size: 0.8em; font-weight: bold; line-height: 1; border-radius: 0.35em; text-transform: uppercase; vertical-align: middle; margin-left: 0.5rem\">CARDINAL</span>\n",
              "</mark>\n",
              " Pro Mac \n",
              "<mark class=\"entity\" style=\"background: #e4e7d2; padding: 0.45em 0.6em; margin: 0 0.25em; line-height: 1; border-radius: 0.35em;\">\n",
              "    512\n",
              "    <span style=\"font-size: 0.8em; font-weight: bold; line-height: 1; border-radius: 0.35em; text-transform: uppercase; vertical-align: middle; margin-left: 0.5rem\">CARDINAL</span>\n",
              "</mark>\n",
              "GB SUPPOSEDLY LOCKED TO CRICKET WIRELESS I WAS FORCED TO HAVE TO RETURN THIS DEVICE BACK TO AMAZON \n",
              "<mark class=\"entity\" style=\"background: #e4e7d2; padding: 0.45em 0.6em; margin: 0 0.25em; line-height: 1; border-radius: 0.35em;\">\n",
              "    1\n",
              "    <span style=\"font-size: 0.8em; font-weight: bold; line-height: 1; border-radius: 0.35em; text-transform: uppercase; vertical-align: middle; margin-left: 0.5rem\">CARDINAL</span>\n",
              "</mark>\n",
              ". THIS DEVICE WOUKD NOT ACTIVATE UNDER THE CRICKET WIRELESS SUBSCRIPTION THAT AMAZON.com HAS SOLD TO ME \n",
              "<mark class=\"entity\" style=\"background: #e4e7d2; padding: 0.45em 0.6em; margin: 0 0.25em; line-height: 1; border-radius: 0.35em;\">\n",
              "    2\n",
              "    <span style=\"font-size: 0.8em; font-weight: bold; line-height: 1; border-radius: 0.35em; text-transform: uppercase; vertical-align: middle; margin-left: 0.5rem\">CARDINAL</span>\n",
              "</mark>\n",
              ". \n",
              "<mark class=\"entity\" style=\"background: #7aecec; padding: 0.45em 0.6em; margin: 0 0.25em; line-height: 1; border-radius: 0.35em;\">\n",
              "    CRICKEY WIRELESS REFUSED TO PUT\n",
              "    <span style=\"font-size: 0.8em; font-weight: bold; line-height: 1; border-radius: 0.35em; text-transform: uppercase; vertical-align: middle; margin-left: 0.5rem\">ORG</span>\n",
              "</mark>\n",
              " CRICKET WIRELESS HAND PROTECTION ON THIS DEVICE DUE TO THEM TELLING ME THAT THIS DEVICE WAS A BYOD DEVICE IN \n",
              "<mark class=\"entity\" style=\"background: #7aecec; padding: 0.45em 0.6em; margin: 0 0.25em; line-height: 1; border-radius: 0.35em;\">\n",
              "    WHICH MEANS\n",
              "    <span style=\"font-size: 0.8em; font-weight: bold; line-height: 1; border-radius: 0.35em; text-transform: uppercase; vertical-align: middle; margin-left: 0.5rem\">ORG</span>\n",
              "</mark>\n",
              " THAT THIS DEVICE THAT I WAS \n",
              "<mark class=\"entity\" style=\"background: #bfeeb7; padding: 0.45em 0.6em; margin: 0 0.25em; line-height: 1; border-radius: 0.35em;\">\n",
              "    FORCED TO RETURN\n",
              "    <span style=\"font-size: 0.8em; font-weight: bold; line-height: 1; border-radius: 0.35em; text-transform: uppercase; vertical-align: middle; margin-left: 0.5rem\">PRODUCT</span>\n",
              "</mark>\n",
              " BACK TO AMAZON SHOULD HAVE BEEN \n",
              "<mark class=\"entity\" style=\"background: #7aecec; padding: 0.45em 0.6em; margin: 0 0.25em; line-height: 1; border-radius: 0.35em;\">\n",
              "    UNLOCKED\n",
              "    <span style=\"font-size: 0.8em; font-weight: bold; line-height: 1; border-radius: 0.35em; text-transform: uppercase; vertical-align: middle; margin-left: 0.5rem\">ORG</span>\n",
              "</mark>\n",
              " BUT IT WAS NOT UNLOCKED. IT WAS LOCKED TO A MYSTERIOUS CARRIER. THEN I CALLED APPLE INC ABOUT THIS DEVICE AND WITH THEIR WONDERFUL PRIVACY AGREEMENT THAT THEY SO \n",
              "<mark class=\"entity\" style=\"background: #7aecec; padding: 0.45em 0.6em; margin: 0 0.25em; line-height: 1; border-radius: 0.35em;\">\n",
              "    SUBCONSCIOUSLY\n",
              "    <span style=\"font-size: 0.8em; font-weight: bold; line-height: 1; border-radius: 0.35em; text-transform: uppercase; vertical-align: middle; margin-left: 0.5rem\">ORG</span>\n",
              "</mark>\n",
              " HAVE WITH ME BUT \n",
              "<mark class=\"entity\" style=\"background: #7aecec; padding: 0.45em 0.6em; margin: 0 0.25em; line-height: 1; border-radius: 0.35em;\">\n",
              "    THEY TOLD ME\n",
              "    <span style=\"font-size: 0.8em; font-weight: bold; line-height: 1; border-radius: 0.35em; text-transform: uppercase; vertical-align: middle; margin-left: 0.5rem\">ORG</span>\n",
              "</mark>\n",
              " THAT TODAY DEVICE BELONGED TO SOME INDIVIDUALS NAME AND IT WAS NOT OENED BY AMAZON.com. SO BUYER BEWARE THIS IS IF YOU ARE EVEN TO BE ABLE TO SEE THESE LOCKED DEVICES BY CRICKET WIRELESS</div></span>"
            ],
            "text/plain": [
              "<IPython.core.display.HTML object>"
            ]
          },
          "metadata": {
            "tags": []
          }
        }
      ]
    },
    {
      "cell_type": "code",
      "metadata": {
        "colab": {
          "base_uri": "https://localhost:8080/",
          "height": 136
        },
        "id": "95tlh-mGRQME",
        "outputId": "a27f2972-fe97-4b83-c115-8bb1c77b66f0"
      },
      "source": [
        "one_block"
      ],
      "execution_count": 5,
      "outputs": [
        {
          "output_type": "execute_result",
          "data": {
            "application/vnd.google.colaboratory.intrinsic+json": {
              "type": "string"
            },
            "text/plain": [
              "'I way Forced to Return this supposedly locked to cricket device,This brand New iPhone 12 Pro Mac 512GB SUPPOSEDLY LOCKED TO CRICKET WIRELESS I WAS FORCED TO HAVE TO RETURN THIS DEVICE BACK TO AMAZON 1. THIS DEVICE WOUKD NOT ACTIVATE UNDER THE CRICKET WIRELESS SUBSCRIPTION THAT AMAZON.com HAS SOLD TO ME 2. CRICKEY WIRELESS REFUSED TO PUT CRICKET WIRELESS HAND PROTECTION ON THIS DEVICE DUE TO THEM TELLING ME THAT THIS DEVICE WAS A BYOD DEVICE IN WHICH MEANS THAT THIS DEVICE THAT I WAS FORCED TO RETURN BACK TO AMAZON SHOULD HAVE BEEN UNLOCKED BUT IT WAS NOT UNLOCKED. IT WAS LOCKED TO A MYSTERIOUS CARRIER. THEN I CALLED APPLE INC ABOUT THIS DEVICE AND WITH THEIR WONDERFUL PRIVACY AGREEMENT THAT THEY SO SUBCONSCIOUSLY HAVE WITH ME BUT THEY TOLD ME THAT TODAY DEVICE BELONGED TO SOME INDIVIDUALS NAME AND IT WAS NOT OENED BY AMAZON.com. SO BUYER BEWARE THIS IS IF YOU ARE EVEN TO BE ABLE TO SEE THESE LOCKED DEVICES BY CRICKET WIRELESS'"
            ]
          },
          "metadata": {
            "tags": []
          },
          "execution_count": 5
        }
      ]
    },
    {
      "cell_type": "code",
      "metadata": {
        "colab": {
          "base_uri": "https://localhost:8080/"
        },
        "id": "nntndweTRQME",
        "outputId": "a66629a9-0b67-4ad0-a2cf-045168ef2cd5"
      },
      "source": [
        "for token in doc_block[0:20]:\n",
        "    print(token, token.pos_)"
      ],
      "execution_count": 6,
      "outputs": [
        {
          "output_type": "stream",
          "text": [
            "I PRON\n",
            "way ADV\n",
            "Forced VERB\n",
            "to PART\n",
            "Return VERB\n",
            "this DET\n",
            "supposedly ADV\n",
            "locked VERB\n",
            "to PART\n",
            "cricket NOUN\n",
            "device NOUN\n",
            ", PUNCT\n",
            "This DET\n",
            "brand NOUN\n",
            "New PROPN\n",
            "iPhone PROPN\n",
            "12 NUM\n",
            "Pro PROPN\n",
            "Mac PROPN\n",
            "512 NUM\n"
          ],
          "name": "stdout"
        }
      ]
    },
    {
      "cell_type": "code",
      "metadata": {
        "colab": {
          "base_uri": "https://localhost:8080/"
        },
        "id": "xSDHeN1tRQME",
        "outputId": "7caf11fc-82df-4806-a448-51f1e0724aa7"
      },
      "source": [
        "#Filtering for nouns and verbs only\n",
        "nouns_verbs = [token.text for token in doc_block if token.pos_ in ('NOUN', 'VERB')]\n",
        "print(nouns_verbs[5:25])"
      ],
      "execution_count": 7,
      "outputs": [
        {
          "output_type": "stream",
          "text": [
            "['brand', 'SUPPOSEDLY', 'CRICKET', 'WAS', 'HAVE', 'RETURN', 'DEVICE', 'DEVICE', 'WOUKD', 'SUBSCRIPTION', 'HAS', 'SOLD', 'REFUSED', 'PUT', 'PROTECTION', 'DEVICE', 'TELLING', 'DEVICE', 'WAS', 'BYOD']\n"
          ],
          "name": "stdout"
        }
      ]
    },
    {
      "cell_type": "code",
      "metadata": {
        "colab": {
          "base_uri": "https://localhost:8080/",
          "height": 343
        },
        "id": "ojHzBLroRQMF",
        "outputId": "98ee4d25-b1fb-48e5-bca3-e65d63b54d0e"
      },
      "source": [
        "#Counting tokens again\n",
        "from sklearn.feature_extraction.text import CountVectorizer\n",
        "cv = CountVectorizer()\n",
        "\n",
        "X = cv.fit_transform(nouns_verbs)\n",
        "sum_words = X.sum(axis=0)\n",
        "words_freq = [(word, sum_words[0, idx]) for word, idx in cv.vocabulary_.items()]\n",
        "words_freq =sorted(words_freq, key = lambda x: x[1], reverse=True)\n",
        "wf_df = pd.DataFrame(words_freq)\n",
        "wf_df.columns = ['word', 'count']\n",
        "\n",
        "wf_df[0:10]"
      ],
      "execution_count": 8,
      "outputs": [
        {
          "output_type": "execute_result",
          "data": {
            "text/html": [
              "<div>\n",
              "<style scoped>\n",
              "    .dataframe tbody tr th:only-of-type {\n",
              "        vertical-align: middle;\n",
              "    }\n",
              "\n",
              "    .dataframe tbody tr th {\n",
              "        vertical-align: top;\n",
              "    }\n",
              "\n",
              "    .dataframe thead th {\n",
              "        text-align: right;\n",
              "    }\n",
              "</style>\n",
              "<table border=\"1\" class=\"dataframe\">\n",
              "  <thead>\n",
              "    <tr style=\"text-align: right;\">\n",
              "      <th></th>\n",
              "      <th>word</th>\n",
              "      <th>count</th>\n",
              "    </tr>\n",
              "  </thead>\n",
              "  <tbody>\n",
              "    <tr>\n",
              "      <th>0</th>\n",
              "      <td>device</td>\n",
              "      <td>9</td>\n",
              "    </tr>\n",
              "    <tr>\n",
              "      <th>1</th>\n",
              "      <td>was</td>\n",
              "      <td>6</td>\n",
              "    </tr>\n",
              "    <tr>\n",
              "      <th>2</th>\n",
              "      <td>return</td>\n",
              "      <td>3</td>\n",
              "    </tr>\n",
              "    <tr>\n",
              "      <th>3</th>\n",
              "      <td>have</td>\n",
              "      <td>3</td>\n",
              "    </tr>\n",
              "    <tr>\n",
              "      <th>4</th>\n",
              "      <td>locked</td>\n",
              "      <td>2</td>\n",
              "    </tr>\n",
              "    <tr>\n",
              "      <th>5</th>\n",
              "      <td>cricket</td>\n",
              "      <td>2</td>\n",
              "    </tr>\n",
              "    <tr>\n",
              "      <th>6</th>\n",
              "      <td>forced</td>\n",
              "      <td>1</td>\n",
              "    </tr>\n",
              "    <tr>\n",
              "      <th>7</th>\n",
              "      <td>brand</td>\n",
              "      <td>1</td>\n",
              "    </tr>\n",
              "    <tr>\n",
              "      <th>8</th>\n",
              "      <td>supposedly</td>\n",
              "      <td>1</td>\n",
              "    </tr>\n",
              "    <tr>\n",
              "      <th>9</th>\n",
              "      <td>woukd</td>\n",
              "      <td>1</td>\n",
              "    </tr>\n",
              "  </tbody>\n",
              "</table>\n",
              "</div>"
            ],
            "text/plain": [
              "         word  count\n",
              "0      device      9\n",
              "1         was      6\n",
              "2      return      3\n",
              "3        have      3\n",
              "4      locked      2\n",
              "5     cricket      2\n",
              "6      forced      1\n",
              "7       brand      1\n",
              "8  supposedly      1\n",
              "9       woukd      1"
            ]
          },
          "metadata": {
            "tags": []
          },
          "execution_count": 8
        }
      ]
    },
    {
      "cell_type": "code",
      "metadata": {
        "colab": {
          "base_uri": "https://localhost:8080/",
          "height": 576
        },
        "id": "5JiBcAJKRQMF",
        "outputId": "35e7ff46-1f17-475d-9cd5-ec979459c860"
      },
      "source": [
        "##Visualizing results\n",
        "#Barchart for top 10 nouns + verbs\n",
        "wf_df[0:10].plot.bar(x='word', figsize=(12,8), title='Top verbs and nouns')"
      ],
      "execution_count": 9,
      "outputs": [
        {
          "output_type": "execute_result",
          "data": {
            "text/plain": [
              "<matplotlib.axes._subplots.AxesSubplot at 0x7fcb6de348d0>"
            ]
          },
          "metadata": {
            "tags": []
          },
          "execution_count": 9
        },
        {
          "output_type": "display_data",
          "data": {
            "image/png": "[encoded data removed]",
            "text/plain": [
              "<Figure size 864x576 with 1 Axes>"
            ]
          },
          "metadata": {
            "tags": [],
            "needs_background": "light"
          }
        }
      ]
    },
    {
      "cell_type": "markdown",
      "metadata": {
        "id": "JN3kQLeTRQMF"
      },
      "source": [
        "#### Emotion Mining"
      ]
    },
    {
      "cell_type": "code",
      "metadata": {
        "colab": {
          "base_uri": "https://localhost:8080/"
        },
        "id": "Mpcnm_o45FhH",
        "outputId": "733df5ce-3bde-4aea-8478-8db39daf967e"
      },
      "source": [
        "#Sentiment analysis\n",
        "import pandas as pd\n",
        "afinn = pd.read_csv('Afinn.csv', sep=',', encoding='latin-1')\n",
        "afinn.shape"
      ],
      "execution_count": 10,
      "outputs": [
        {
          "output_type": "execute_result",
          "data": {
            "text/plain": [
              "(2477, 2)"
            ]
          },
          "metadata": {
            "tags": []
          },
          "execution_count": 10
        }
      ]
    },
    {
      "cell_type": "code",
      "metadata": {
        "colab": {
          "base_uri": "https://localhost:8080/",
          "height": 195
        },
        "id": "bmQZOD6t5Fkk",
        "outputId": "69815b99-2ba5-44b4-fa41-5117115b4f14"
      },
      "source": [
        " afinn.head()"
      ],
      "execution_count": 11,
      "outputs": [
        {
          "output_type": "execute_result",
          "data": {
            "text/html": [
              "<div>\n",
              "<style scoped>\n",
              "    .dataframe tbody tr th:only-of-type {\n",
              "        vertical-align: middle;\n",
              "    }\n",
              "\n",
              "    .dataframe tbody tr th {\n",
              "        vertical-align: top;\n",
              "    }\n",
              "\n",
              "    .dataframe thead th {\n",
              "        text-align: right;\n",
              "    }\n",
              "</style>\n",
              "<table border=\"1\" class=\"dataframe\">\n",
              "  <thead>\n",
              "    <tr style=\"text-align: right;\">\n",
              "      <th></th>\n",
              "      <th>word</th>\n",
              "      <th>value</th>\n",
              "    </tr>\n",
              "  </thead>\n",
              "  <tbody>\n",
              "    <tr>\n",
              "      <th>0</th>\n",
              "      <td>abandon</td>\n",
              "      <td>-2</td>\n",
              "    </tr>\n",
              "    <tr>\n",
              "      <th>1</th>\n",
              "      <td>abandoned</td>\n",
              "      <td>-2</td>\n",
              "    </tr>\n",
              "    <tr>\n",
              "      <th>2</th>\n",
              "      <td>abandons</td>\n",
              "      <td>-2</td>\n",
              "    </tr>\n",
              "    <tr>\n",
              "      <th>3</th>\n",
              "      <td>abducted</td>\n",
              "      <td>-2</td>\n",
              "    </tr>\n",
              "    <tr>\n",
              "      <th>4</th>\n",
              "      <td>abduction</td>\n",
              "      <td>-2</td>\n",
              "    </tr>\n",
              "  </tbody>\n",
              "</table>\n",
              "</div>"
            ],
            "text/plain": [
              "        word  value\n",
              "0    abandon     -2\n",
              "1  abandoned     -2\n",
              "2   abandons     -2\n",
              "3   abducted     -2\n",
              "4  abduction     -2"
            ]
          },
          "metadata": {
            "tags": []
          },
          "execution_count": 11
        }
      ]
    },
    {
      "cell_type": "code",
      "metadata": {
        "colab": {
          "base_uri": "https://localhost:8080/"
        },
        "id": "-MmMSYUqRQMG",
        "outputId": "c8cf9b78-4fa1-49bb-95a7-b791a9f8ace6"
      },
      "source": [
        "import numpy as np # linear algebra\n",
        "import pandas as pd # data processing, CSV file I/O (e.g. pd.read_csv)\n",
        "import string # special operations on strings\n",
        "import spacy # language models\n",
        "\n",
        "from matplotlib.pyplot import imread\n",
        "from matplotlib import pyplot as plt\n",
        "from wordcloud import WordCloud\n",
        "%matplotlib inline\n",
        "\n",
        "import pandas\n",
        "book=pd.read_csv(\"iphone.txt\",error_bad_lines=False)\n",
        "book = [x.strip() for x in book.x] # remove both the leading and the trailing characters\n",
        "book = [x for x in book if x] # removes empty strings, because they are considered in Python as False\n",
        "book"
      ],
      "execution_count": 13,
      "outputs": [
        {
          "output_type": "stream",
          "text": [
            "b'Skipping line 7: expected 1 fields, saw 2\\nSkipping line 8: expected 1 fields, saw 2\\nSkipping line 9: expected 1 fields, saw 4\\nSkipping line 15: expected 1 fields, saw 3\\nSkipping line 16: expected 1 fields, saw 2\\nSkipping line 26: expected 1 fields, saw 3\\nSkipping line 27: expected 1 fields, saw 2\\nSkipping line 28: expected 1 fields, saw 2\\nSkipping line 29: expected 1 fields, saw 2\\nSkipping line 36: expected 1 fields, saw 2\\nSkipping line 40: expected 1 fields, saw 2\\nSkipping line 41: expected 1 fields, saw 3\\nSkipping line 42: expected 1 fields, saw 2\\nSkipping line 43: expected 1 fields, saw 4\\nSkipping line 49: expected 1 fields, saw 2\\nSkipping line 51: expected 1 fields, saw 2\\nSkipping line 52: expected 1 fields, saw 2\\nSkipping line 54: expected 1 fields, saw 4\\nSkipping line 55: expected 1 fields, saw 4\\nSkipping line 56: expected 1 fields, saw 2\\nSkipping line 57: expected 1 fields, saw 2\\nSkipping line 59: expected 1 fields, saw 2\\nSkipping line 61: expected 1 fields, saw 2\\nSkipping line 62: expected 1 fields, saw 3\\nSkipping line 63: expected 1 fields, saw 5\\nSkipping line 64: expected 1 fields, saw 2\\nSkipping line 66: expected 1 fields, saw 7\\nSkipping line 67: expected 1 fields, saw 2\\nSkipping line 70: expected 1 fields, saw 2\\nSkipping line 71: expected 1 fields, saw 4\\nSkipping line 73: expected 1 fields, saw 5\\nSkipping line 74: expected 1 fields, saw 3\\nSkipping line 75: expected 1 fields, saw 2\\nSkipping line 76: expected 1 fields, saw 2\\nSkipping line 77: expected 1 fields, saw 2\\nSkipping line 78: expected 1 fields, saw 2\\nSkipping line 79: expected 1 fields, saw 2\\nSkipping line 80: expected 1 fields, saw 5\\nSkipping line 81: expected 1 fields, saw 2\\nSkipping line 82: expected 1 fields, saw 2\\nSkipping line 83: expected 1 fields, saw 2\\nSkipping line 84: expected 1 fields, saw 3\\nSkipping line 89: expected 1 fields, saw 6\\nSkipping line 91: expected 1 fields, saw 5\\nSkipping line 98: expected 1 fields, saw 10\\nSkipping line 99: expected 1 fields, saw 5\\nSkipping line 111: expected 1 fields, saw 2\\nSkipping line 113: expected 1 fields, saw 2\\nSkipping line 115: expected 1 fields, saw 2\\nSkipping line 117: expected 1 fields, saw 2\\nSkipping line 122: expected 1 fields, saw 2\\n'\n"
          ],
          "name": "stderr"
        },
        {
          "output_type": "execute_result",
          "data": {
            "text/plain": [
              "['I LOVE LOVE LOVE this phone! I always loved the old body style of the iPhone 4 and the size of the newer ones and now I get the best of both worlds, old Body style with a larger screen! I love the way it feels in my hand and I love how crystal clear everything looks. By far my favorite version of the iPhone. Well done Apple!',\n",
              " 'Why is it Locked for cricket carrier?',\n",
              " 'forced to buy cricket carrier with phone??',\n",
              " '\"This is a Cricket Locked iPhone - It Says So in the Title!\"',\n",
              " 'I way Forced to Return this supposedly locked to cricket device,This brand New iPhone 12 Pro Mac 512GB SUPPOSEDLY LOCKED TO CRICKET WIRELESS I WAS FORCED TO HAVE TO RETURN THIS DEVICE BACK TO AMAZON 1. THIS DEVICE WOUKD NOT ACTIVATE UNDER THE CRICKET WIRELESS SUBSCRIPTION THAT AMAZON.com HAS SOLD TO ME 2. CRICKEY WIRELESS REFUSED TO PUT CRICKET WIRELESS HAND PROTECTION ON THIS DEVICE DUE TO THEM TELLING ME THAT THIS DEVICE WAS A BYOD DEVICE IN WHICH MEANS THAT THIS DEVICE THAT I WAS FORCED TO RETURN BACK TO AMAZON SHOULD HAVE BEEN UNLOCKED BUT IT WAS NOT UNLOCKED. IT WAS LOCKED TO A MYSTERIOUS CARRIER. THEN I CALLED APPLE INC ABOUT THIS DEVICE AND WITH THEIR WONDERFUL PRIVACY AGREEMENT THAT THEY SO SUBCONSCIOUSLY HAVE WITH ME BUT THEY TOLD ME THAT TODAY DEVICE BELONGED TO SOME INDIVIDUALS NAME AND IT WAS NOT OENED BY AMAZON.com. SO BUYER BEWARE THIS IS IF YOU ARE EVEN TO BE ABLE TO SEE THESE LOCKED DEVICES BY CRICKET WIRELESS',\n",
              " 'Unexpected loss of signal.A lot of iPhone 12 pro users (myself included) are having a problem with the cell service dropping for no reason. My opinion is to delay a purchase until there is a fix for this problem.',\n",
              " '\"Getting used to no home button is the only thing taking me awhile to get used to\".',\n",
              " 'awesomeness ,came fast and is the best apple so far love the camera',\n",
              " 'Amazing!!!!Got my phone after 3 days when it finally was released and Im very much happy with what i got\\r\\n ya entregue el producto yo el viernes entregue el producto espero mi reembolso',\n",
              " 'gracias\\r\\n Bought two returned both. If you don’t care about dropped calls go for it!Shame on Apple for releasing before they worked out the bugs. Disgusting. And Tana? Chip? No one seems to bother to even acknowledge a massive returns and compliance worldwide that it drops calls within 30 seconds to 2 minutes and sometimes the speaker works and sometimes it doesn’t. I spent every day for three weeks troubleshooting every possible way and nothing fixed it. Look at the forum read the other reviews again this is everyone all models and worldwide. And now you can’t buy the 11s anymore from Apple because it was the last model?!! Well I found it at Best Buy and you can get AppleCare and the phone is perfect. Apple put me in a really bad situation where I was switching over numbers and had to go back to my back up phone and had no time to even transition the number that I was going to switch from. The whole thing has just been a disaster thank God I returned both of them within the two week period. They finally told me I’m better off returning and not trying to set up a third phone. I think I would’ve lost my mind doing it three times & returning three times! People in line with me we’re taking theirs back but everyone acts like they are surprised when you mention issues. Apple Support will tell you they have no idea what you’re talking about it’s unbelievable! Check Google! Check the Apple forum! Very sorry for those of you who did not! One tec said when the S versions come out about a year later they usually work out the bugs. I am more than annoyed at the time and money I’ve put into this phone. Don’t buy it yet!!!!!!',\n",
              " 'Quiero otra compañía telefonica Quisiera saber si es obligatorio estar con cricket\"',\n",
              " '\"Y’all need to make this phone unlocked',\n",
              " 'Bro Please Make This Phone\"',\n",
              " 'FullyUnlocked!!!!!! PLEASE!!',\n",
              " 'Cricket did not include instructions in the SIM kit. I called Cricket and was put on hold for a long time until an unhelpful person told me I need to call Amazon if I have questions.',\n",
              " \"I call Amazon and ask about porting my phone number. Amazon is very friendly but we agree they can't tell me how to port my AT&T number to Cricket. They ask me to call Cricket back.\",\n",
              " 'I call Cricket back and was put on hold for a long time before an unhelpful person told me I need to go to a Cricket store to ask questions or activate the phone.\"',\n",
              " 'I thought Amazon would protect me from the monstrous practices of Cricket but they don\\'t. Its odd Amazon allows allows Cricket to do this.\"',\n",
              " 'Great deal Love this phone. I made the switch from android mainly due to ecosystem apple has and im not too disappointed.\"',\n",
              " 'Couldn\\'t use Was excited to use this phone until I realized they didn\\'t include a way to plug it into a wall outlet. It\\'s been sitting in its box next to me for about a week now. Sad\"',\n",
              " 'Pee and poop I farded and shidded lol\"',\n",
              " 'Asome Nice . Extremely happy with this phone , just the best . Thanks Amazon. For this deal',\n",
              " \"The Pros, Cons and Oks for Apple's iPhone 12 Pro (HR).Pros:__________\\r\\n• I absolutely love the design of this phone. All premium feel that can finally stand up by itself. The curve glass in previous models were impressive but now, with a flat/rounded design, this allows the screen’s borders to be reduced (creating another leap into a future Bezel-less screen).\",\n",
              " '• The matte back texture leaves no fingerprints whatsoever.',\n",
              " '• The night mode will also automatically turn on. Didn’t have to do a single thing. I just pointed to an area with little lighting and the phone does the rest.',\n",
              " '• OLED screen panel is finally here and it’s well worth the wait. Took it outside on a clear sunny day and this screen held its ground. The colors pop dramatically and the blacks are solid. Overall an A\".',\n",
              " '• The magnet system isn’t much in use now but the reason why it’s a pro is that this feature is going to open up a whole new market of accessories from third-party companies.\"',\n",
              " '• Battery life is pretty accurate in what Apple has been stating. I’m getting around a day and a half of use before charging it. I’ll assume that the battery use will increase as I slowly get used to this phone and no longer need to use it as much as I can.\"',\n",
              " 'Cons and Oks:__________\\r\\n• The iPhone 12 and 12 Pro are almost the same in every way. The only thing is the camera setup. With the price bump, you expect maybe a higher refresh rate or more unique software features. If you don’t take pictures with your phone, the 12 Pro isn’t worth it.',\n",
              " '• The one issue I have with the camera is the limited optical zoom. With all the software features I would expect more where other phones (Note 20) already go up to 5x.\"',\n",
              " '• Keep in mind that the Dolby Vision videos you make on this phone will not look nearly as good on screens that are not compatible. The compatible ones are the screens that few have.\"',\n",
              " 'Bottom Line:__________\\r\\n\\r\\nTo be clear, the iPhone 12 will be one of the best phones for 2021. It’s the fast, beautiful OLED screen, and it brings back the iPhone 4, 4s, and 5’s round square design (which is the best design Apple has made). This is a phone that you’re going to have for 3+years, and it will still hold its ground during those future years. I’ve always been a fan of Google’s pixels cameras because of their camera software. But Apple went above and beyond with their cameras, and I felt every shot was worth posting. For newbies to Apple, this is a great phone to get into.',\n",
              " 'Overall: A beautiful phone with a camera system that shows Apple at its finest\".',\n",
              " 'Hope I was a help to you.\\r\\n BIG DISAPPOINTMENT VERY DISAPPOINTED . My boyfriend bought 2 iPhones 12 pro. One for me one for him, they just arrived last night. I was really excited to get the new phone considering we have been Apple customers for years. When I opened the box I was shocked to see there is NO CHARGER. After we paid $2000, now I have to spend another $100 to buy 2 chargers?!!!! WHAT A SHAME. I am seriously considering returning it and buy a Samsung. The phone still has the sticker on it that’s how big my disappointment was. It’s like buying a refrigerator without the power cord.',\n",
              " 'WELL DONE APPLE\".',\n",
              " 'Scam,Is phone is locked And this thing is scam bc you have to stay 6 month on cricket company to make it unlock',\n",
              " 'FAKE!!!!!IPHONE IA FAKE',\n",
              " '\"OMG This is so stupid!\"',\n",
              " 'locked and full price what a jerks!  broken pretty disappointed this item sucks never turned on',\n",
              " '\"I don\\'t want kraken kraken I need one but not from kraken\"',\n",
              " '\"Looks premium and modern.The new iPhone 12 Pro\\'s camera works a lot better than the previous generations and it looks a lot more modern and unique.\"',\n",
              " 'WHY! Cricket!This is so ridiculous no one use cricket! This need to be unlocked',\n",
              " 'Adha Nice product that I want to grab',\n",
              " '\"It is locked and stilll Amazon sell it at fulll price\"',\n",
              " 'Pay full price for a locked phone? Why?Why would someone pay full price $1,054.00 + $55.00 a month for a locked phone? How long will it be locked, forever?',\n",
              " 'V/r',\n",
              " 'Pitbull']"
            ]
          },
          "metadata": {
            "tags": []
          },
          "execution_count": 13
        }
      ]
    },
    {
      "cell_type": "code",
      "metadata": {
        "colab": {
          "base_uri": "https://localhost:8080/",
          "height": 137
        },
        "id": "WF8qgPe47fXC",
        "outputId": "918748fd-9d08-44a6-e2a5-bcdaa9cbd597"
      },
      "source": [
        "text = ' '.join(book)\n",
        "text"
      ],
      "execution_count": 14,
      "outputs": [
        {
          "output_type": "execute_result",
          "data": {
            "application/vnd.google.colaboratory.intrinsic+json": {
              "type": "string"
            },
            "text/plain": [
              "'I LOVE LOVE LOVE this phone! I always loved the old body style of the iPhone 4 and the size of the newer ones and now I get the best of both worlds, old Body style with a larger screen! I love the way it feels in my hand and I love how crystal clear everything looks. By far my favorite version of the iPhone. Well done Apple! Why is it Locked for cricket carrier? forced to buy cricket carrier with phone?? \"This is a Cricket Locked iPhone - It Says So in the Title!\" I way Forced to Return this supposedly locked to cricket device,This brand New iPhone 12 Pro Mac 512GB SUPPOSEDLY LOCKED TO CRICKET WIRELESS I WAS FORCED TO HAVE TO RETURN THIS DEVICE BACK TO AMAZON 1. THIS DEVICE WOUKD NOT ACTIVATE UNDER THE CRICKET WIRELESS SUBSCRIPTION THAT AMAZON.com HAS SOLD TO ME 2. CRICKEY WIRELESS REFUSED TO PUT CRICKET WIRELESS HAND PROTECTION ON THIS DEVICE DUE TO THEM TELLING ME THAT THIS DEVICE WAS A BYOD DEVICE IN WHICH MEANS THAT THIS DEVICE THAT I WAS FORCED TO RETURN BACK TO AMAZON SHOULD HAVE BEEN UNLOCKED BUT IT WAS NOT UNLOCKED. IT WAS LOCKED TO A MYSTERIOUS CARRIER. THEN I CALLED APPLE INC ABOUT THIS DEVICE AND WITH THEIR WONDERFUL PRIVACY AGREEMENT THAT THEY SO SUBCONSCIOUSLY HAVE WITH ME BUT THEY TOLD ME THAT TODAY DEVICE BELONGED TO SOME INDIVIDUALS NAME AND IT WAS NOT OENED BY AMAZON.com. SO BUYER BEWARE THIS IS IF YOU ARE EVEN TO BE ABLE TO SEE THESE LOCKED DEVICES BY CRICKET WIRELESS Unexpected loss of signal.A lot of iPhone 12 pro users (myself included) are having a problem with the cell service dropping for no reason. My opinion is to delay a purchase until there is a fix for this problem. \"Getting used to no home button is the only thing taking me awhile to get used to\". awesomeness ,came fast and is the best apple so far love the camera Amazing!!!!Got my phone after 3 days when it finally was released and Im very much happy with what i got\\r\\n ya entregue el producto yo el viernes entregue el producto espero mi reembolso gracias\\r\\n Bought two returned both. If you don’t care about dropped calls go for it!Shame on Apple for releasing before they worked out the bugs. Disgusting. And Tana? Chip? No one seems to bother to even acknowledge a massive returns and compliance worldwide that it drops calls within 30 seconds to 2 minutes and sometimes the speaker works and sometimes it doesn’t. I spent every day for three weeks troubleshooting every possible way and nothing fixed it. Look at the forum read the other reviews again this is everyone all models and worldwide. And now you can’t buy the 11s anymore from Apple because it was the last model?!! Well I found it at Best Buy and you can get AppleCare and the phone is perfect. Apple put me in a really bad situation where I was switching over numbers and had to go back to my back up phone and had no time to even transition the number that I was going to switch from. The whole thing has just been a disaster thank God I returned both of them within the two week period. They finally told me I’m better off returning and not trying to set up a third phone. I think I would’ve lost my mind doing it three times & returning three times! People in line with me we’re taking theirs back but everyone acts like they are surprised when you mention issues. Apple Support will tell you they have no idea what you’re talking about it’s unbelievable! Check Google! Check the Apple forum! Very sorry for those of you who did not! One tec said when the S versions come out about a year later they usually work out the bugs. I am more than annoyed at the time and money I’ve put into this phone. Don’t buy it yet!!!!!! Quiero otra compañía telefonica Quisiera saber si es obligatorio estar con cricket\" \"Y’all need to make this phone unlocked Bro Please Make This Phone\" FullyUnlocked!!!!!! PLEASE!! Cricket did not include instructions in the SIM kit. I called Cricket and was put on hold for a long time until an unhelpful person told me I need to call Amazon if I have questions. I call Amazon and ask about porting my phone number. Amazon is very friendly but we agree they can\\'t tell me how to port my AT&T number to Cricket. They ask me to call Cricket back. I call Cricket back and was put on hold for a long time before an unhelpful person told me I need to go to a Cricket store to ask questions or activate the phone.\" I thought Amazon would protect me from the monstrous practices of Cricket but they don\\'t. Its odd Amazon allows allows Cricket to do this.\" Great deal Love this phone. I made the switch from android mainly due to ecosystem apple has and im not too disappointed.\" Couldn\\'t use Was excited to use this phone until I realized they didn\\'t include a way to plug it into a wall outlet. It\\'s been sitting in its box next to me for about a week now. Sad\" Pee and poop I farded and shidded lol\" Asome Nice . Extremely happy with this phone , just the best . Thanks Amazon. For this deal The Pros, Cons and Oks for Apple\\'s iPhone 12 Pro (HR).Pros:__________\\r\\n• I absolutely love the design of this phone. All premium feel that can finally stand up by itself. The curve glass in previous models were impressive but now, with a flat/rounded design, this allows the screen’s borders to be reduced (creating another leap into a future Bezel-less screen). • The matte back texture leaves no fingerprints whatsoever. • The night mode will also automatically turn on. Didn’t have to do a single thing. I just pointed to an area with little lighting and the phone does the rest. • OLED screen panel is finally here and it’s well worth the wait. Took it outside on a clear sunny day and this screen held its ground. The colors pop dramatically and the blacks are solid. Overall an A\". • The magnet system isn’t much in use now but the reason why it’s a pro is that this feature is going to open up a whole new market of accessories from third-party companies.\" • Battery life is pretty accurate in what Apple has been stating. I’m getting around a day and a half of use before charging it. I’ll assume that the battery use will increase as I slowly get used to this phone and no longer need to use it as much as I can.\" Cons and Oks:__________\\r\\n• The iPhone 12 and 12 Pro are almost the same in every way. The only thing is the camera setup. With the price bump, you expect maybe a higher refresh rate or more unique software features. If you don’t take pictures with your phone, the 12 Pro isn’t worth it. • The one issue I have with the camera is the limited optical zoom. With all the software features I would expect more where other phones (Note 20) already go up to 5x.\" • Keep in mind that the Dolby Vision videos you make on this phone will not look nearly as good on screens that are not compatible. The compatible ones are the screens that few have.\" Bottom Line:__________\\r\\n\\r\\nTo be clear, the iPhone 12 will be one of the best phones for 2021. It’s the fast, beautiful OLED screen, and it brings back the iPhone 4, 4s, and 5’s round square design (which is the best design Apple has made). This is a phone that you’re going to have for 3+years, and it will still hold its ground during those future years. I’ve always been a fan of Google’s pixels cameras because of their camera software. But Apple went above and beyond with their cameras, and I felt every shot was worth posting. For newbies to Apple, this is a great phone to get into. Overall: A beautiful phone with a camera system that shows Apple at its finest\". Hope I was a help to you.\\r\\n BIG DISAPPOINTMENT VERY DISAPPOINTED . My boyfriend bought 2 iPhones 12 pro. One for me one for him, they just arrived last night. I was really excited to get the new phone considering we have been Apple customers for years. When I opened the box I was shocked to see there is NO CHARGER. After we paid $2000, now I have to spend another $100 to buy 2 chargers?!!!! WHAT A SHAME. I am seriously considering returning it and buy a Samsung. The phone still has the sticker on it that’s how big my disappointment was. It’s like buying a refrigerator without the power cord. WELL DONE APPLE\". Scam,Is phone is locked And this thing is scam bc you have to stay 6 month on cricket company to make it unlock FAKE!!!!!IPHONE IA FAKE \"OMG This is so stupid!\" locked and full price what a jerks!  broken pretty disappointed this item sucks never turned on \"I don\\'t want kraken kraken I need one but not from kraken\" \"Looks premium and modern.The new iPhone 12 Pro\\'s camera works a lot better than the previous generations and it looks a lot more modern and unique.\" WHY! Cricket!This is so ridiculous no one use cricket! This need to be unlocked Adha Nice product that I want to grab \"It is locked and stilll Amazon sell it at fulll price\" Pay full price for a locked phone? Why?Why would someone pay full price $1,054.00 + $55.00 a month for a locked phone? How long will it be locked, forever? V/r Pitbull'"
            ]
          },
          "metadata": {
            "tags": []
          },
          "execution_count": 14
        }
      ]
    },
    {
      "cell_type": "code",
      "metadata": {
        "colab": {
          "base_uri": "https://localhost:8080/"
        },
        "id": "C73cJCxgRQMH",
        "outputId": "998176ed-2e40-447b-f987-85ababa0dd04"
      },
      "source": [
        "import nltk\n",
        "nltk.download('punkt')\n",
        "from nltk import tokenize\n",
        "sentences = tokenize.sent_tokenize(' '.join(book))\n",
        "sentences"
      ],
      "execution_count": 16,
      "outputs": [
        {
          "output_type": "stream",
          "text": [
            "[nltk_data] Downloading package punkt to /root/nltk_data...\n",
            "[nltk_data]   Unzipping tokenizers/punkt.zip.\n"
          ],
          "name": "stdout"
        },
        {
          "output_type": "execute_result",
          "data": {
            "text/plain": [
              "['I LOVE LOVE LOVE this phone!',\n",
              " 'I always loved the old body style of the iPhone 4 and the size of the newer ones and now I get the best of both worlds, old Body style with a larger screen!',\n",
              " 'I love the way it feels in my hand and I love how crystal clear everything looks.',\n",
              " 'By far my favorite version of the iPhone.',\n",
              " 'Well done Apple!',\n",
              " 'Why is it Locked for cricket carrier?',\n",
              " 'forced to buy cricket carrier with phone??',\n",
              " '\"This is a Cricket Locked iPhone - It Says So in the Title!\"',\n",
              " 'I way Forced to Return this supposedly locked to cricket device,This brand New iPhone 12 Pro Mac 512GB SUPPOSEDLY LOCKED TO CRICKET WIRELESS I WAS FORCED TO HAVE TO RETURN THIS DEVICE BACK TO AMAZON 1.',\n",
              " 'THIS DEVICE WOUKD NOT ACTIVATE UNDER THE CRICKET WIRELESS SUBSCRIPTION THAT AMAZON.com HAS SOLD TO ME 2.',\n",
              " 'CRICKEY WIRELESS REFUSED TO PUT CRICKET WIRELESS HAND PROTECTION ON THIS DEVICE DUE TO THEM TELLING ME THAT THIS DEVICE WAS A BYOD DEVICE IN WHICH MEANS THAT THIS DEVICE THAT I WAS FORCED TO RETURN BACK TO AMAZON SHOULD HAVE BEEN UNLOCKED BUT IT WAS NOT UNLOCKED.',\n",
              " 'IT WAS LOCKED TO A MYSTERIOUS CARRIER.',\n",
              " 'THEN I CALLED APPLE INC ABOUT THIS DEVICE AND WITH THEIR WONDERFUL PRIVACY AGREEMENT THAT THEY SO SUBCONSCIOUSLY HAVE WITH ME BUT THEY TOLD ME THAT TODAY DEVICE BELONGED TO SOME INDIVIDUALS NAME AND IT WAS NOT OENED BY AMAZON.com.',\n",
              " 'SO BUYER BEWARE THIS IS IF YOU ARE EVEN TO BE ABLE TO SEE THESE LOCKED DEVICES BY CRICKET WIRELESS Unexpected loss of signal.A lot of iPhone 12 pro users (myself included) are having a problem with the cell service dropping for no reason.',\n",
              " 'My opinion is to delay a purchase until there is a fix for this problem.',\n",
              " '\"Getting used to no home button is the only thing taking me awhile to get used to\".',\n",
              " 'awesomeness ,came fast and is the best apple so far love the camera Amazing!!!',\n",
              " '!Got my phone after 3 days when it finally was released and Im very much happy with what i got\\r\\n ya entregue el producto yo el viernes entregue el producto espero mi reembolso gracias\\r\\n Bought two returned both.',\n",
              " 'If you don’t care about dropped calls go for it!Shame on Apple for releasing before they worked out the bugs.',\n",
              " 'Disgusting.',\n",
              " 'And Tana?',\n",
              " 'Chip?',\n",
              " 'No one seems to bother to even acknowledge a massive returns and compliance worldwide that it drops calls within 30 seconds to 2 minutes and sometimes the speaker works and sometimes it doesn’t.',\n",
              " 'I spent every day for three weeks troubleshooting every possible way and nothing fixed it.',\n",
              " 'Look at the forum read the other reviews again this is everyone all models and worldwide.',\n",
              " 'And now you can’t buy the 11s anymore from Apple because it was the last model?!!',\n",
              " 'Well I found it at Best Buy and you can get AppleCare and the phone is perfect.',\n",
              " 'Apple put me in a really bad situation where I was switching over numbers and had to go back to my back up phone and had no time to even transition the number that I was going to switch from.',\n",
              " 'The whole thing has just been a disaster thank God I returned both of them within the two week period.',\n",
              " 'They finally told me I’m better off returning and not trying to set up a third phone.',\n",
              " 'I think I would’ve lost my mind doing it three times & returning three times!',\n",
              " 'People in line with me we’re taking theirs back but everyone acts like they are surprised when you mention issues.',\n",
              " 'Apple Support will tell you they have no idea what you’re talking about it’s unbelievable!',\n",
              " 'Check Google!',\n",
              " 'Check the Apple forum!',\n",
              " 'Very sorry for those of you who did not!',\n",
              " 'One tec said when the S versions come out about a year later they usually work out the bugs.',\n",
              " 'I am more than annoyed at the time and money I’ve put into this phone.',\n",
              " 'Don’t buy it yet!!!!!!',\n",
              " 'Quiero otra compañía telefonica Quisiera saber si es obligatorio estar con cricket\" \"Y’all need to make this phone unlocked Bro Please Make This Phone\" FullyUnlocked!!!!!!',\n",
              " 'PLEASE!!',\n",
              " 'Cricket did not include instructions in the SIM kit.',\n",
              " 'I called Cricket and was put on hold for a long time until an unhelpful person told me I need to call Amazon if I have questions.',\n",
              " 'I call Amazon and ask about porting my phone number.',\n",
              " \"Amazon is very friendly but we agree they can't tell me how to port my AT&T number to Cricket.\",\n",
              " 'They ask me to call Cricket back.',\n",
              " 'I call Cricket back and was put on hold for a long time before an unhelpful person told me I need to go to a Cricket store to ask questions or activate the phone.\"',\n",
              " \"I thought Amazon would protect me from the monstrous practices of Cricket but they don't.\",\n",
              " 'Its odd Amazon allows allows Cricket to do this.\"',\n",
              " 'Great deal Love this phone.',\n",
              " 'I made the switch from android mainly due to ecosystem apple has and im not too disappointed.\"',\n",
              " \"Couldn't use Was excited to use this phone until I realized they didn't include a way to plug it into a wall outlet.\",\n",
              " \"It's been sitting in its box next to me for about a week now.\",\n",
              " 'Sad\" Pee and poop I farded and shidded lol\" Asome Nice .',\n",
              " 'Extremely happy with this phone , just the best .',\n",
              " 'Thanks Amazon.',\n",
              " \"For this deal The Pros, Cons and Oks for Apple's iPhone 12 Pro (HR).Pros:__________\\r\\n• I absolutely love the design of this phone.\",\n",
              " 'All premium feel that can finally stand up by itself.',\n",
              " 'The curve glass in previous models were impressive but now, with a flat/rounded design, this allows the screen’s borders to be reduced (creating another leap into a future Bezel-less screen).',\n",
              " '• The matte back texture leaves no fingerprints whatsoever.',\n",
              " '• The night mode will also automatically turn on.',\n",
              " 'Didn’t have to do a single thing.',\n",
              " 'I just pointed to an area with little lighting and the phone does the rest.',\n",
              " '• OLED screen panel is finally here and it’s well worth the wait.',\n",
              " 'Took it outside on a clear sunny day and this screen held its ground.',\n",
              " 'The colors pop dramatically and the blacks are solid.',\n",
              " 'Overall an A\".',\n",
              " '• The magnet system isn’t much in use now but the reason why it’s a pro is that this feature is going to open up a whole new market of accessories from third-party companies.\"',\n",
              " '• Battery life is pretty accurate in what Apple has been stating.',\n",
              " 'I’m getting around a day and a half of use before charging it.',\n",
              " 'I’ll assume that the battery use will increase as I slowly get used to this phone and no longer need to use it as much as I can.\"',\n",
              " 'Cons and Oks:__________\\r\\n• The iPhone 12 and 12 Pro are almost the same in every way.',\n",
              " 'The only thing is the camera setup.',\n",
              " 'With the price bump, you expect maybe a higher refresh rate or more unique software features.',\n",
              " 'If you don’t take pictures with your phone, the 12 Pro isn’t worth it.',\n",
              " '• The one issue I have with the camera is the limited optical zoom.',\n",
              " 'With all the software features I would expect more where other phones (Note 20) already go up to 5x.\"',\n",
              " '• Keep in mind that the Dolby Vision videos you make on this phone will not look nearly as good on screens that are not compatible.',\n",
              " 'The compatible ones are the screens that few have.\"',\n",
              " 'Bottom Line:__________\\r\\n\\r\\nTo be clear, the iPhone 12 will be one of the best phones for 2021.',\n",
              " 'It’s the fast, beautiful OLED screen, and it brings back the iPhone 4, 4s, and 5’s round square design (which is the best design Apple has made).',\n",
              " 'This is a phone that you’re going to have for 3+years, and it will still hold its ground during those future years.',\n",
              " 'I’ve always been a fan of Google’s pixels cameras because of their camera software.',\n",
              " 'But Apple went above and beyond with their cameras, and I felt every shot was worth posting.',\n",
              " 'For newbies to Apple, this is a great phone to get into.',\n",
              " 'Overall: A beautiful phone with a camera system that shows Apple at its finest\".',\n",
              " 'Hope I was a help to you.',\n",
              " 'BIG DISAPPOINTMENT VERY DISAPPOINTED .',\n",
              " 'My boyfriend bought 2 iPhones 12 pro.',\n",
              " 'One for me one for him, they just arrived last night.',\n",
              " 'I was really excited to get the new phone considering we have been Apple customers for years.',\n",
              " 'When I opened the box I was shocked to see there is NO CHARGER.',\n",
              " 'After we paid $2000, now I have to spend another $100 to buy 2 chargers?!!!!',\n",
              " 'WHAT A SHAME.',\n",
              " 'I am seriously considering returning it and buy a Samsung.',\n",
              " 'The phone still has the sticker on it that’s how big my disappointment was.',\n",
              " 'It’s like buying a refrigerator without the power cord.',\n",
              " 'WELL DONE APPLE\".',\n",
              " 'Scam,Is phone is locked And this thing is scam bc you have to stay 6 month on cricket company to make it unlock FAKE!!!!',\n",
              " '!IPHONE IA FAKE \"OMG This is so stupid!\"',\n",
              " 'locked and full price what a jerks!',\n",
              " 'broken pretty disappointed this item sucks never turned on \"I don\\'t want kraken kraken I need one but not from kraken\" \"Looks premium and modern.The new iPhone 12 Pro\\'s camera works a lot better than the previous generations and it looks a lot more modern and unique.\"',\n",
              " 'WHY!',\n",
              " 'Cricket!This is so ridiculous no one use cricket!',\n",
              " 'This need to be unlocked Adha Nice product that I want to grab \"It is locked and stilll Amazon sell it at fulll price\" Pay full price for a locked phone?',\n",
              " 'Why?Why would someone pay full price $1,054.00 + $55.00 a month for a locked phone?',\n",
              " 'How long will it be locked, forever?',\n",
              " 'V/r Pitbull']"
            ]
          },
          "metadata": {
            "tags": []
          },
          "execution_count": 16
        }
      ]
    },
    {
      "cell_type": "code",
      "metadata": {
        "colab": {
          "base_uri": "https://localhost:8080/",
          "height": 402
        },
        "id": "-h5q3ArfRQMH",
        "outputId": "5a2b23c2-1bd5-4796-dd1d-afff00ddc687"
      },
      "source": [
        "sent_df = pd.DataFrame(sentences, columns=['sentence'])\n",
        "sent_df"
      ],
      "execution_count": 17,
      "outputs": [
        {
          "output_type": "execute_result",
          "data": {
            "text/html": [
              "<div>\n",
              "<style scoped>\n",
              "    .dataframe tbody tr th:only-of-type {\n",
              "        vertical-align: middle;\n",
              "    }\n",
              "\n",
              "    .dataframe tbody tr th {\n",
              "        vertical-align: top;\n",
              "    }\n",
              "\n",
              "    .dataframe thead th {\n",
              "        text-align: right;\n",
              "    }\n",
              "</style>\n",
              "<table border=\"1\" class=\"dataframe\">\n",
              "  <thead>\n",
              "    <tr style=\"text-align: right;\">\n",
              "      <th></th>\n",
              "      <th>sentence</th>\n",
              "    </tr>\n",
              "  </thead>\n",
              "  <tbody>\n",
              "    <tr>\n",
              "      <th>0</th>\n",
              "      <td>I LOVE LOVE LOVE this phone!</td>\n",
              "    </tr>\n",
              "    <tr>\n",
              "      <th>1</th>\n",
              "      <td>I always loved the old body style of the iPhon...</td>\n",
              "    </tr>\n",
              "    <tr>\n",
              "      <th>2</th>\n",
              "      <td>I love the way it feels in my hand and I love ...</td>\n",
              "    </tr>\n",
              "    <tr>\n",
              "      <th>3</th>\n",
              "      <td>By far my favorite version of the iPhone.</td>\n",
              "    </tr>\n",
              "    <tr>\n",
              "      <th>4</th>\n",
              "      <td>Well done Apple!</td>\n",
              "    </tr>\n",
              "    <tr>\n",
              "      <th>...</th>\n",
              "      <td>...</td>\n",
              "    </tr>\n",
              "    <tr>\n",
              "      <th>103</th>\n",
              "      <td>Cricket!This is so ridiculous no one use cricket!</td>\n",
              "    </tr>\n",
              "    <tr>\n",
              "      <th>104</th>\n",
              "      <td>This need to be unlocked Adha Nice product tha...</td>\n",
              "    </tr>\n",
              "    <tr>\n",
              "      <th>105</th>\n",
              "      <td>Why?Why would someone pay full price $1,054.00...</td>\n",
              "    </tr>\n",
              "    <tr>\n",
              "      <th>106</th>\n",
              "      <td>How long will it be locked, forever?</td>\n",
              "    </tr>\n",
              "    <tr>\n",
              "      <th>107</th>\n",
              "      <td>V/r Pitbull</td>\n",
              "    </tr>\n",
              "  </tbody>\n",
              "</table>\n",
              "<p>108 rows × 1 columns</p>\n",
              "</div>"
            ],
            "text/plain": [
              "                                              sentence\n",
              "0                         I LOVE LOVE LOVE this phone!\n",
              "1    I always loved the old body style of the iPhon...\n",
              "2    I love the way it feels in my hand and I love ...\n",
              "3            By far my favorite version of the iPhone.\n",
              "4                                     Well done Apple!\n",
              "..                                                 ...\n",
              "103  Cricket!This is so ridiculous no one use cricket!\n",
              "104  This need to be unlocked Adha Nice product tha...\n",
              "105  Why?Why would someone pay full price $1,054.00...\n",
              "106               How long will it be locked, forever?\n",
              "107                                        V/r Pitbull\n",
              "\n",
              "[108 rows x 1 columns]"
            ]
          },
          "metadata": {
            "tags": []
          },
          "execution_count": 17
        }
      ]
    },
    {
      "cell_type": "code",
      "metadata": {
        "id": "F5CY8Fy5RQMH"
      },
      "source": [
        "affinity_scores = afinn.set_index('word')['value'].to_dict()"
      ],
      "execution_count": 18,
      "outputs": []
    },
    {
      "cell_type": "code",
      "metadata": {
        "id": "GChIn-DoRQMH"
      },
      "source": [
        "#Custom function :score each word in a sentence in lemmatised form, \n",
        "#but calculate the score for the whole original sentence.\n",
        "nlp = spacy.load('en')\n",
        "sentiment_lexicon = affinity_scores\n",
        "\n",
        "def calculate_sentiment(text: str = None):\n",
        "    sent_score = 0\n",
        "    if text:\n",
        "        sentence = nlp(text)\n",
        "        for word in sentence:\n",
        "            sent_score += sentiment_lexicon.get(word.lemma_, 0)\n",
        "    return sent_score"
      ],
      "execution_count": 19,
      "outputs": []
    },
    {
      "cell_type": "code",
      "metadata": {
        "id": "eo8SBA4RRQMI"
      },
      "source": [
        "sent_df['sentiment_value'] = sent_df['sentence'].apply(calculate_sentiment)"
      ],
      "execution_count": 21,
      "outputs": []
    },
    {
      "cell_type": "code",
      "metadata": {
        "id": "gl4S2g2MRQMI",
        "colab": {
          "base_uri": "https://localhost:8080/"
        },
        "outputId": "af8d8d82-41a5-492a-d305-b7902771aaaf"
      },
      "source": [
        "# how many words are in the sentence?\n",
        "sent_df['word_count'] = sent_df['sentence'].str.split().apply(len)\n",
        "sent_df['word_count'].head(10)"
      ],
      "execution_count": 23,
      "outputs": [
        {
          "output_type": "execute_result",
          "data": {
            "text/plain": [
              "0     6\n",
              "1    34\n",
              "2    17\n",
              "3     8\n",
              "4     3\n",
              "5     7\n",
              "6     7\n",
              "7    13\n",
              "8    36\n",
              "9    17\n",
              "Name: word_count, dtype: int64"
            ]
          },
          "metadata": {
            "tags": []
          },
          "execution_count": 23
        }
      ]
    },
    {
      "cell_type": "code",
      "metadata": {
        "id": "_PYBlXzxRQMI",
        "colab": {
          "base_uri": "https://localhost:8080/",
          "height": 343
        },
        "outputId": "016e025f-dd96-47dc-e29a-f0a8f782c78a"
      },
      "source": [
        "sent_df.sort_values(by='sentiment_value').tail(10)"
      ],
      "execution_count": 24,
      "outputs": [
        {
          "output_type": "execute_result",
          "data": {
            "text/html": [
              "<div>\n",
              "<style scoped>\n",
              "    .dataframe tbody tr th:only-of-type {\n",
              "        vertical-align: middle;\n",
              "    }\n",
              "\n",
              "    .dataframe tbody tr th {\n",
              "        vertical-align: top;\n",
              "    }\n",
              "\n",
              "    .dataframe thead th {\n",
              "        text-align: right;\n",
              "    }\n",
              "</style>\n",
              "<table border=\"1\" class=\"dataframe\">\n",
              "  <thead>\n",
              "    <tr style=\"text-align: right;\">\n",
              "      <th></th>\n",
              "      <th>sentence</th>\n",
              "      <th>sentiment_value</th>\n",
              "      <th>word_count</th>\n",
              "    </tr>\n",
              "  </thead>\n",
              "  <tbody>\n",
              "    <tr>\n",
              "      <th>79</th>\n",
              "      <td>Bottom Line:__________\\r\\n\\r\\nTo be clear, the...</td>\n",
              "      <td>4</td>\n",
              "      <td>17</td>\n",
              "    </tr>\n",
              "    <tr>\n",
              "      <th>85</th>\n",
              "      <td>Overall: A beautiful phone with a camera syste...</td>\n",
              "      <td>5</td>\n",
              "      <td>14</td>\n",
              "    </tr>\n",
              "    <tr>\n",
              "      <th>1</th>\n",
              "      <td>I always loved the old body style of the iPhon...</td>\n",
              "      <td>6</td>\n",
              "      <td>34</td>\n",
              "    </tr>\n",
              "    <tr>\n",
              "      <th>16</th>\n",
              "      <td>awesomeness ,came fast and is the best apple s...</td>\n",
              "      <td>6</td>\n",
              "      <td>14</td>\n",
              "    </tr>\n",
              "    <tr>\n",
              "      <th>54</th>\n",
              "      <td>Extremely happy with this phone , just the best .</td>\n",
              "      <td>6</td>\n",
              "      <td>10</td>\n",
              "    </tr>\n",
              "    <tr>\n",
              "      <th>49</th>\n",
              "      <td>Great deal Love this phone.</td>\n",
              "      <td>6</td>\n",
              "      <td>5</td>\n",
              "    </tr>\n",
              "    <tr>\n",
              "      <th>80</th>\n",
              "      <td>It’s the fast, beautiful OLED screen, and it b...</td>\n",
              "      <td>6</td>\n",
              "      <td>27</td>\n",
              "    </tr>\n",
              "    <tr>\n",
              "      <th>26</th>\n",
              "      <td>Well I found it at Best Buy and you can get Ap...</td>\n",
              "      <td>6</td>\n",
              "      <td>17</td>\n",
              "    </tr>\n",
              "    <tr>\n",
              "      <th>0</th>\n",
              "      <td>I LOVE LOVE LOVE this phone!</td>\n",
              "      <td>6</td>\n",
              "      <td>6</td>\n",
              "    </tr>\n",
              "    <tr>\n",
              "      <th>2</th>\n",
              "      <td>I love the way it feels in my hand and I love ...</td>\n",
              "      <td>7</td>\n",
              "      <td>17</td>\n",
              "    </tr>\n",
              "  </tbody>\n",
              "</table>\n",
              "</div>"
            ],
            "text/plain": [
              "                                             sentence  ...  word_count\n",
              "79  Bottom Line:__________\\r\\n\\r\\nTo be clear, the...  ...          17\n",
              "85  Overall: A beautiful phone with a camera syste...  ...          14\n",
              "1   I always loved the old body style of the iPhon...  ...          34\n",
              "16  awesomeness ,came fast and is the best apple s...  ...          14\n",
              "54  Extremely happy with this phone , just the best .  ...          10\n",
              "49                        Great deal Love this phone.  ...           5\n",
              "80  It’s the fast, beautiful OLED screen, and it b...  ...          27\n",
              "26  Well I found it at Best Buy and you can get Ap...  ...          17\n",
              "0                        I LOVE LOVE LOVE this phone!  ...           6\n",
              "2   I love the way it feels in my hand and I love ...  ...          17\n",
              "\n",
              "[10 rows x 3 columns]"
            ]
          },
          "metadata": {
            "tags": []
          },
          "execution_count": 24
        }
      ]
    },
    {
      "cell_type": "code",
      "metadata": {
        "id": "eeaxtu-gRQMI",
        "colab": {
          "base_uri": "https://localhost:8080/"
        },
        "outputId": "beb674ea-7df6-4033-8be4-dc7ea68faf85"
      },
      "source": [
        "# Sentiment score of the whole review\n",
        "sent_df['sentiment_value'].describe()"
      ],
      "execution_count": 25,
      "outputs": [
        {
          "output_type": "execute_result",
          "data": {
            "text/plain": [
              "count    108.000000\n",
              "mean       0.462963\n",
              "std        2.496450\n",
              "min       -7.000000\n",
              "25%        0.000000\n",
              "50%        0.000000\n",
              "75%        2.000000\n",
              "max        7.000000\n",
              "Name: sentiment_value, dtype: float64"
            ]
          },
          "metadata": {
            "tags": []
          },
          "execution_count": 25
        }
      ]
    },
    {
      "cell_type": "code",
      "metadata": {
        "id": "XvbYSo-TRQMI",
        "colab": {
          "base_uri": "https://localhost:8080/",
          "height": 195
        },
        "outputId": "a06c9089-e0f2-45f9-9242-fb03feca79b2"
      },
      "source": [
        "# Sentiment score of the whole review\n",
        "sent_df[sent_df['sentiment_value']<=0].head()"
      ],
      "execution_count": 26,
      "outputs": [
        {
          "output_type": "execute_result",
          "data": {
            "text/html": [
              "<div>\n",
              "<style scoped>\n",
              "    .dataframe tbody tr th:only-of-type {\n",
              "        vertical-align: middle;\n",
              "    }\n",
              "\n",
              "    .dataframe tbody tr th {\n",
              "        vertical-align: top;\n",
              "    }\n",
              "\n",
              "    .dataframe thead th {\n",
              "        text-align: right;\n",
              "    }\n",
              "</style>\n",
              "<table border=\"1\" class=\"dataframe\">\n",
              "  <thead>\n",
              "    <tr style=\"text-align: right;\">\n",
              "      <th></th>\n",
              "      <th>sentence</th>\n",
              "      <th>sentiment_value</th>\n",
              "      <th>word_count</th>\n",
              "    </tr>\n",
              "  </thead>\n",
              "  <tbody>\n",
              "    <tr>\n",
              "      <th>4</th>\n",
              "      <td>Well done Apple!</td>\n",
              "      <td>0</td>\n",
              "      <td>3</td>\n",
              "    </tr>\n",
              "    <tr>\n",
              "      <th>5</th>\n",
              "      <td>Why is it Locked for cricket carrier?</td>\n",
              "      <td>0</td>\n",
              "      <td>7</td>\n",
              "    </tr>\n",
              "    <tr>\n",
              "      <th>6</th>\n",
              "      <td>forced to buy cricket carrier with phone??</td>\n",
              "      <td>0</td>\n",
              "      <td>7</td>\n",
              "    </tr>\n",
              "    <tr>\n",
              "      <th>7</th>\n",
              "      <td>\"This is a Cricket Locked iPhone - It Says So ...</td>\n",
              "      <td>0</td>\n",
              "      <td>13</td>\n",
              "    </tr>\n",
              "    <tr>\n",
              "      <th>8</th>\n",
              "      <td>I way Forced to Return this supposedly locked ...</td>\n",
              "      <td>0</td>\n",
              "      <td>36</td>\n",
              "    </tr>\n",
              "  </tbody>\n",
              "</table>\n",
              "</div>"
            ],
            "text/plain": [
              "                                            sentence  ...  word_count\n",
              "4                                   Well done Apple!  ...           3\n",
              "5              Why is it Locked for cricket carrier?  ...           7\n",
              "6         forced to buy cricket carrier with phone??  ...           7\n",
              "7  \"This is a Cricket Locked iPhone - It Says So ...  ...          13\n",
              "8  I way Forced to Return this supposedly locked ...  ...          36\n",
              "\n",
              "[5 rows x 3 columns]"
            ]
          },
          "metadata": {
            "tags": []
          },
          "execution_count": 26
        }
      ]
    },
    {
      "cell_type": "code",
      "metadata": {
        "id": "CEF3Cb6fRQMJ",
        "colab": {
          "base_uri": "https://localhost:8080/",
          "height": 195
        },
        "outputId": "1874c5cb-6a27-4ec2-9ecc-d2fb397152f0"
      },
      "source": [
        "sent_df[sent_df['sentiment_value']>0].head()"
      ],
      "execution_count": 27,
      "outputs": [
        {
          "output_type": "execute_result",
          "data": {
            "text/html": [
              "<div>\n",
              "<style scoped>\n",
              "    .dataframe tbody tr th:only-of-type {\n",
              "        vertical-align: middle;\n",
              "    }\n",
              "\n",
              "    .dataframe tbody tr th {\n",
              "        vertical-align: top;\n",
              "    }\n",
              "\n",
              "    .dataframe thead th {\n",
              "        text-align: right;\n",
              "    }\n",
              "</style>\n",
              "<table border=\"1\" class=\"dataframe\">\n",
              "  <thead>\n",
              "    <tr style=\"text-align: right;\">\n",
              "      <th></th>\n",
              "      <th>sentence</th>\n",
              "      <th>sentiment_value</th>\n",
              "      <th>word_count</th>\n",
              "    </tr>\n",
              "  </thead>\n",
              "  <tbody>\n",
              "    <tr>\n",
              "      <th>0</th>\n",
              "      <td>I LOVE LOVE LOVE this phone!</td>\n",
              "      <td>6</td>\n",
              "      <td>6</td>\n",
              "    </tr>\n",
              "    <tr>\n",
              "      <th>1</th>\n",
              "      <td>I always loved the old body style of the iPhon...</td>\n",
              "      <td>6</td>\n",
              "      <td>34</td>\n",
              "    </tr>\n",
              "    <tr>\n",
              "      <th>2</th>\n",
              "      <td>I love the way it feels in my hand and I love ...</td>\n",
              "      <td>7</td>\n",
              "      <td>17</td>\n",
              "    </tr>\n",
              "    <tr>\n",
              "      <th>3</th>\n",
              "      <td>By far my favorite version of the iPhone.</td>\n",
              "      <td>2</td>\n",
              "      <td>8</td>\n",
              "    </tr>\n",
              "    <tr>\n",
              "      <th>16</th>\n",
              "      <td>awesomeness ,came fast and is the best apple s...</td>\n",
              "      <td>6</td>\n",
              "      <td>14</td>\n",
              "    </tr>\n",
              "  </tbody>\n",
              "</table>\n",
              "</div>"
            ],
            "text/plain": [
              "                                             sentence  ...  word_count\n",
              "0                        I LOVE LOVE LOVE this phone!  ...           6\n",
              "1   I always loved the old body style of the iPhon...  ...          34\n",
              "2   I love the way it feels in my hand and I love ...  ...          17\n",
              "3           By far my favorite version of the iPhone.  ...           8\n",
              "16  awesomeness ,came fast and is the best apple s...  ...          14\n",
              "\n",
              "[5 rows x 3 columns]"
            ]
          },
          "metadata": {
            "tags": []
          },
          "execution_count": 27
        }
      ]
    },
    {
      "cell_type": "code",
      "metadata": {
        "id": "BrmrQORzRQMJ"
      },
      "source": [
        "sent_df['index']=range(0,len(sent_df))"
      ],
      "execution_count": 28,
      "outputs": []
    },
    {
      "cell_type": "code",
      "metadata": {
        "id": "L8xVofQoRQMJ",
        "colab": {
          "base_uri": "https://localhost:8080/",
          "height": 350
        },
        "outputId": "5bf5d455-5441-4a8f-e7f8-67b2e1b63e7b"
      },
      "source": [
        "import seaborn as sns\n",
        "import matplotlib.pyplot as plt\n",
        "sns.distplot(sent_df['sentiment_value'])"
      ],
      "execution_count": 29,
      "outputs": [
        {
          "output_type": "stream",
          "text": [
            "/usr/local/lib/python3.7/dist-packages/seaborn/distributions.py:2557: FutureWarning: `distplot` is a deprecated function and will be removed in a future version. Please adapt your code to use either `displot` (a figure-level function with similar flexibility) or `histplot` (an axes-level function for histograms).\n",
            "  warnings.warn(msg, FutureWarning)\n"
          ],
          "name": "stderr"
        },
        {
          "output_type": "execute_result",
          "data": {
            "text/plain": [
              "<matplotlib.axes._subplots.AxesSubplot at 0x7fcb664a6450>"
            ]
          },
          "metadata": {
            "tags": []
          },
          "execution_count": 29
        },
        {
          "output_type": "display_data",
          "data": {
            "image/png": "[encoded data removed]",
            "text/plain": [
              "<Figure size 432x288 with 1 Axes>"
            ]
          },
          "metadata": {
            "tags": [],
            "needs_background": "light"
          }
        }
      ]
    },
    {
      "cell_type": "code",
      "metadata": {
        "id": "o87PqnUNRQMJ",
        "colab": {
          "base_uri": "https://localhost:8080/",
          "height": 623
        },
        "outputId": "f7ed07fa-f54a-4d3a-c843-66a3ad41be5f"
      },
      "source": [
        "plt.figure(figsize=(15, 10))\n",
        "sns.lineplot(y='sentiment_value',x='index',data=sent_df)"
      ],
      "execution_count": 30,
      "outputs": [
        {
          "output_type": "execute_result",
          "data": {
            "text/plain": [
              "<matplotlib.axes._subplots.AxesSubplot at 0x7fcb7cffc750>"
            ]
          },
          "metadata": {
            "tags": []
          },
          "execution_count": 30
        },
        {
          "output_type": "display_data",
          "data": {
            "image/png": "[encoded data removed]",
            "text/plain": [
              "<Figure size 1080x720 with 1 Axes>"
            ]
          },
          "metadata": {
            "tags": [],
            "needs_background": "light"
          }
        }
      ]
    },
    {
      "cell_type": "code",
      "metadata": {
        "colab": {
          "base_uri": "https://localhost:8080/",
          "height": 623
        },
        "id": "xkyQ9hb2dC1A",
        "outputId": "dbd473e9-e4d8-43d4-c7f4-771328e37438"
      },
      "source": [
        "plt.figure(figsize=(15, 10))\n",
        "sns.countplot(y='sentiment_value',data=sent_df)"
      ],
      "execution_count": 31,
      "outputs": [
        {
          "output_type": "execute_result",
          "data": {
            "text/plain": [
              "<matplotlib.axes._subplots.AxesSubplot at 0x7fcb7cffe390>"
            ]
          },
          "metadata": {
            "tags": []
          },
          "execution_count": 31
        },
        {
          "output_type": "display_data",
          "data": {
            "image/png": "[encoded data removed]",
            "text/plain": [
              "<Figure size 1080x720 with 1 Axes>"
            ]
          },
          "metadata": {
            "tags": [],
            "needs_background": "light"
          }
        }
      ]
    },
    {
      "cell_type": "code",
      "metadata": {
        "id": "SBPUpEdxRQMJ",
        "colab": {
          "base_uri": "https://localhost:8080/",
          "height": 531
        },
        "outputId": "310dd3b7-0441-4104-9691-f66604493678"
      },
      "source": [
        "sent_df.plot.scatter(x='word_count', y='sentiment_value', figsize=(8,8), title='Sentence sentiment value to sentence word count')"
      ],
      "execution_count": 32,
      "outputs": [
        {
          "output_type": "execute_result",
          "data": {
            "text/plain": [
              "<matplotlib.axes._subplots.AxesSubplot at 0x7fcb61846c90>"
            ]
          },
          "metadata": {
            "tags": []
          },
          "execution_count": 32
        },
        {
          "output_type": "display_data",
          "data": {
            "image/png": "[encoded data removed]",
            "text/plain": [
              "<Figure size 576x576 with 1 Axes>"
            ]
          },
          "metadata": {
            "tags": [],
            "needs_background": "light"
          }
        }
      ]
    },
    {
      "cell_type": "code",
      "metadata": {
        "id": "8rXBlMYxeDzC"
      },
      "source": [
        "#conclusion:\n",
        "from the above analysis,we can conclude that this is neutral sentiment."
      ],
      "execution_count": null,
      "outputs": []
    }
  ]
}